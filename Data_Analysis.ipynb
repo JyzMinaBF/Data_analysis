{
  "nbformat": 4,
  "nbformat_minor": 0,
  "metadata": {
    "colab": {
      "provenance": [],
      "mount_file_id": "1zg_zUWZGe1SdmjUm0KetgQlhFSQ-18U1",
      "authorship_tag": "ABX9TyMOyJfQWxldRvzBlA1FCgL0",
      "include_colab_link": true
    },
    "kernelspec": {
      "name": "python3",
      "display_name": "Python 3"
    },
    "language_info": {
      "name": "python"
    }
  },
  "cells": [
    {
      "cell_type": "markdown",
      "metadata": {
        "id": "view-in-github",
        "colab_type": "text"
      },
      "source": [
        "<a href=\"https://colab.research.google.com/github/JyzMinaBF/Data_analysis/blob/main/Data_Analysis.ipynb\" target=\"_parent\"><img src=\"https://colab.research.google.com/assets/colab-badge.svg\" alt=\"Open In Colab\"/></a>"
      ]
    },
    {
      "cell_type": "markdown",
      "source": [
        "# 此程式為簡易的探索式資料分析以及模型選用流程 (Here are a simple procedure for EDA and some models)\n",
        "\n",
        "# Contents:\n",
        "\n",
        "## 1. 資料讀取與處理 (Reading and processing data)\n",
        "\n",
        "## 2. 探索式資料分析 (Explotary Data Analysis)\n",
        "\n",
        "## 3. 模型 (Models)"
      ],
      "metadata": {
        "id": "BWDoYTJLoMG3"
      }
    },
    {
      "cell_type": "markdown",
      "source": [
        "## 0. 後續使用到之套件 (Packages Used in the Program)"
      ],
      "metadata": {
        "id": "OCVlJBP3kPv1"
      }
    },
    {
      "cell_type": "code",
      "source": [
        "from matplotlib import pyplot as plt\n",
        "import seaborn as sns\n",
        "import pandas as pd\n",
        "import numpy as np\n",
        "from google.colab import drive\n",
        "drive.mount('/content/drive')\n",
        "import statsmodels.api as sm\n",
        "from scipy import stats\n",
        "def warn(*args, **kwargs):\n",
        "    pass\n",
        "import warnings\n",
        "warnings.warn = warn"
      ],
      "metadata": {
        "id": "uff-0rXx4Ixo",
        "colab": {
          "base_uri": "https://localhost:8080/"
        },
        "outputId": "1000c3ed-6ec6-4c59-9212-e29056db71b6"
      },
      "execution_count": null,
      "outputs": [
        {
          "output_type": "stream",
          "name": "stdout",
          "text": [
            "Drive already mounted at /content/drive; to attempt to forcibly remount, call drive.mount(\"/content/drive\", force_remount=True).\n"
          ]
        }
      ]
    },
    {
      "cell_type": "markdown",
      "source": [
        "## 1. 資料讀取與處理 (Reading and processing data)"
      ],
      "metadata": {
        "id": "lW5RD_D1ovX7"
      }
    },
    {
      "cell_type": "markdown",
      "source": [
        "### (1) 資料讀取 (Reading data)"
      ],
      "metadata": {
        "id": "KqAaKelcpDx1"
      }
    },
    {
      "cell_type": "code",
      "source": [
        "def read_data(data_name : str, mode : str = \"colab\", sep_type : str = \",\") -> pd.DataFrame:\n",
        "    \"\"\"Help you to universally read the csv, txt and xlsx file.\n",
        "\n",
        "    Args:\n",
        "        data_name (str): The data name in Colab mode and the route name of the data in local (.csv or .txt have to be added in the end)\n",
        "        mode (str, optional): (\"colab\",\"local\") Defaults to \"colab\".\n",
        "        sep_type (str, optional): The sign used to separate the entries Defaults to \",\".\n",
        "\n",
        "    Returns:\n",
        "        pd.DataFrame: The data you read in DataFrame type in pandas\n",
        "    \"\"\"\n",
        "\n",
        "    data = pd.DataFrame()\n",
        "\n",
        "    if mode == \"colab\":\n",
        "        data_dir = \"/content/drive/MyDrive/\" + data_name\n",
        "    elif mode == \"local\":\n",
        "        data_dir = data_name\n",
        "    if data_name[::-1][:3] == \"vsc\":\n",
        "        data = pd.read_csv(data_dir, encoding= 'unicode_escape', sep = sep_type)\n",
        "    elif data_name[::-1][:3] == \"txt\":\n",
        "        data = pd.read_fwf(data_dir)\n",
        "    elif data_name[::-1][:3] == \"xslx\":\n",
        "        data = pd.read_excel(data_dir)\n",
        "\n",
        "    return data\n",
        "\n",
        "data_name = \".csv\"\n",
        "data = read_data(data_name)\n",
        "data.head()"
      ],
      "metadata": {
        "id": "STzCGmQ6CiCu"
      },
      "execution_count": 3,
      "outputs": []
    },
    {
      "cell_type": "markdown",
      "source": [
        "### (2) 資料內容總整及確認(Data summary and verify)"
      ],
      "metadata": {
        "id": "AIJR64C9-y8V"
      }
    },
    {
      "cell_type": "markdown",
      "source": [
        "#### i. 總整資訊(Summary)"
      ],
      "metadata": {
        "id": "CjxwNndh_sOb"
      }
    },
    {
      "cell_type": "code",
      "source": [
        "data.describe(include='all')"
      ],
      "metadata": {
        "id": "2BeH4W3L-xFf"
      },
      "execution_count": 4,
      "outputs": []
    },
    {
      "cell_type": "markdown",
      "source": [
        "#### ii. 反應變數確認 (Verify Response Variable)"
      ],
      "metadata": {
        "id": "aeq55fpA67QU"
      }
    },
    {
      "cell_type": "code",
      "source": [
        "y = \"\" # Remember to copy the name of variable from above directly"
      ],
      "metadata": {
        "id": "-fPLeRuz66L6"
      },
      "execution_count": null,
      "outputs": []
    },
    {
      "cell_type": "markdown",
      "source": [
        "#### iii. 確認缺失值狀況(Check if there is any NA value)"
      ],
      "metadata": {
        "id": "e-hfm3uwSkOm"
      }
    },
    {
      "cell_type": "code",
      "source": [
        "def isna_test(data : pd.DataFrame) -> pd.DataFrame:\n",
        "    \"\"\"This is made for detecting if there is any missing value and print the rows with missing value.\n",
        "\n",
        "    Args:\n",
        "        data (pd.DataFrame): data name\n",
        "    \"\"\"\n",
        "    if data.isna().any().any():\n",
        "\n",
        "        mask = data.isna().any(axis=1)\n",
        "\n",
        "        rows_with_na = data[mask]\n",
        "\n",
        "        print(\"Below are rows that contains NA value.\\n\")\n",
        "        print(rows_with_na)\n",
        "        return rows_with_na\n",
        "\n",
        "    else:\n",
        "        print('There is no missing value in the DataFrame')\n",
        "        return None"
      ],
      "metadata": {
        "id": "lKH8chGaAK0g"
      },
      "execution_count": null,
      "outputs": []
    },
    {
      "cell_type": "markdown",
      "source": [
        "### (3) 資料清洗 (Data cleaning)（Not Necessary）"
      ],
      "metadata": {
        "id": "1VNNiGh6rHlq"
      }
    },
    {
      "cell_type": "code",
      "source": [
        "def fill_na_methods(data : pd.DataFrame, method : str = \"mean\", fill : float = 0) -> pd.DataFrame:\n",
        "    \"\"\"We provide many kinds of methods for you to deal with missing value.\n",
        "\n",
        "    Args:\n",
        "        data (pd.DataFrame): data name\n",
        "\n",
        "        method (str, optional): method in the list [\"delcol\", \"delrow\", \"mean\", \"median\", \"mode\", \"fill\", \"reg_impute\", \"knn_impute\", \"interpolate_linear\"\n",
        "        , \"interpolate_poly\", \"interpolate_spline\", \"bfill\", \"ffill\"]\n",
        "        delcol : delete column\n",
        "        delrow : delete row\n",
        "        fill : fill in a constant which defaults to 0\n",
        "        reg_impute : use regression to judge (still inventing)\n",
        "        knn_impute : use KNN to judge\n",
        "        interpolate_method : use for ordered data or time series data to fill in with the method behind\n",
        "        _fill : fill in with the value backward or forward\n",
        "        . Defaults to \"mean\".\n",
        "\n",
        "        fill (float, optional): the value to be filled in. Defaults to 0.\n",
        "\n",
        "    Raises:\n",
        "        KeyError: If the method in arg is not any method that is implemented in this function, raise this error\n",
        "\n",
        "    Returns:\n",
        "        pd.DataFrame: _description_\n",
        "    \"\"\"\n",
        "\n",
        "    from sklearn import impute\n",
        "    methods = [\"delcol\", \"delrow\", \"mean\", \"median\", \"mode\", \"fill\", \"reg_impute\", \"knn_impute\", \"interpolate_linear\"\n",
        "    , \"interpolate_poly\", \"interpolate_spline\", \"bfill\", \"ffill\"]\n",
        "    if method not in methods:\n",
        "        raise KeyError(\"This method has not be implemented in this function.\")\n",
        "    if method == \"delcol\":\n",
        "        data.dropna(axis=1, inplace=True)  # Removes columns with any missing values\n",
        "    if method == \"delrow\":\n",
        "        data.dropna(inplace=True)  # Removes rows with any missing values\n",
        "    if method == \"mean\":\n",
        "        imputer = impute.SimpleImputer(strategy='mean')  # fill in with the mean of the column\n",
        "        data = pd.DataFrame(imputer.fit_transform(data), columns=data.columns)\n",
        "    if method == \"median\":\n",
        "        imputer = impute.SimpleImputer(strategy='median')  # fill in with the median of the column\n",
        "        data = pd.DataFrame(imputer.fit_transform(data), columns=data.columns)\n",
        "    if method == \"mode\":\n",
        "        imputer = impute.SimpleImputer(strategy='most_frequent')  # fill in with the mode of the column\n",
        "        data = pd.DataFrame(imputer.fit_transform(data), columns=data.columns)\n",
        "    if method == \"fill\":\n",
        "        imputer = impute.SimpleImputer(strategy='constant', fill_value=fill)  # fill in with a constant which is default to be zero\n",
        "        data = pd.DataFrame(imputer.fit_transform(data), columns=data.columns)\n",
        "    # if method == \"reg_impute\":\n",
        "    #     # TODO: make a research of what kind of estimator can be used here and if it is proper to be used here\n",
        "    #     imputer = impute.IterativeImputer(random_state=19972003)  # use regression method to impute\n",
        "    #     data = pd.DataFrame(imputer.fit_transform(data), columns=data.columns)\n",
        "    if method == \"knn_impute\":\n",
        "        imputer = impute.KNNImputer()  # use knn method to impute\n",
        "        data = pd.DataFrame(imputer.fit_transform(data), columns=data.columns)\n",
        "    if method == \"interpolate_linear\":\n",
        "        data.interpolate(method='linear', inplace=True) # use this for data that is time series and can be easily fill in a linear relationship\n",
        "    if method == \"interpolate_poly\":\n",
        "        data.interpolate(method='polynomial', order=2, inplace=True) # use this for data that is time series and have a polynomial relationship\n",
        "    if method == \"interpolate_spline\":\n",
        "        data.interpolate(method='slinear', inplace=True) # use this for data that is time series and want to have a smooth line\n",
        "    if method == \"bfill\":\n",
        "        data.fillna(method='bfill', inplace=True)  # Fills missing values with the next value in the column\n",
        "    if method == \"ffill\":\n",
        "        data.fillna(method='ffill', inplace=True)  # Fills missing values with the previous value in the column\n",
        "\n",
        "    return data"
      ],
      "metadata": {
        "id": "OtTC00A7ajih"
      },
      "execution_count": null,
      "outputs": []
    },
    {
      "cell_type": "markdown",
      "source": [
        "## 2. 探索式資料分析 (Explotary Data Analysis)"
      ],
      "metadata": {
        "id": "MDANPtPRo5N_"
      }
    },
    {
      "cell_type": "markdown",
      "source": [
        "### (1) 類型辨識(Distinguishing type)"
      ],
      "metadata": {
        "id": "OL0NWP2Rrc6F"
      }
    },
    {
      "cell_type": "markdown",
      "source": [
        "#### i. 自動辨識 (Passively Distinguish)"
      ],
      "metadata": {
        "id": "q2kl5hqRJJ5D"
      }
    },
    {
      "cell_type": "code",
      "source": [
        "def dist_type(data : pd.DataFrame) -> tuple:\n",
        "    \"\"\"distinguish the type of variables (features) for the EDA afterwards. There are only two types, metric or categorical.\n",
        "\n",
        "    Args:\n",
        "        data (pd.DataFrame): data name\n",
        "\n",
        "    Returns:\n",
        "        tuple: a tuple with first element which is the metric variables and second elements which is categorical variables\n",
        "    \"\"\"\n",
        "\n",
        "    # select only the variables that are metric type\n",
        "    metric_vars = data.select_dtypes(include='number')\n",
        "    cate_vars = data.select_dtypes(exclude='number')\n",
        "\n",
        "    metric_vars = metric_vars.columns\n",
        "    cate_vars = cate_vars.columns\n",
        "\n",
        "    return (list(metric_vars), list(cate_vars))\n",
        "\n",
        "metric_variables, categorical_variables = dist_type(data)\n",
        "print(\"Metric:\", metric_variables)\n",
        "print(\"Categorical:\", categorical_variables)"
      ],
      "metadata": {
        "id": "OqJX5kQso8xH"
      },
      "execution_count": null,
      "outputs": []
    },
    {
      "cell_type": "markdown",
      "source": [
        "#### ii. 手動增減 (Actively Adjust)"
      ],
      "metadata": {
        "id": "Vd424LcUJTZB"
      }
    },
    {
      "cell_type": "code",
      "source": [
        "def adjust(metric_variables, categorical_variables, metric_to_cate, cate_to_metric, drop):\n",
        "  for i in drop:\n",
        "    if i in metric_variables:\n",
        "      metric_variables.remove(i)\n",
        "    elif i in categorical_variables:\n",
        "      categorical_variables.remove(i)\n",
        "  for i in metric_to_cate:\n",
        "    metric_variables.remove(i)\n",
        "  for i in cate_to_metric:\n",
        "    categorical_variables.remove(i)\n",
        "  for i in metric_to_cate:\n",
        "     categorical_variables.append(i)\n",
        "  for i in cate_to_metric:\n",
        "     metric_variables.append(i)\n",
        "\n",
        "  return metric_variables, categorical_variables\n",
        "\n",
        "metric_variables, categorical_variables = adjust(metric_variables, categorical_variables,\n",
        "                                                 metric_to_cate = [], cate_to_metric = [], drop =[])\n",
        "print(\"Metric:\", metric_variables)\n",
        "print(\"Categorical:\", categorical_variables)"
      ],
      "metadata": {
        "id": "RExwyzLFJS7V"
      },
      "execution_count": null,
      "outputs": []
    },
    {
      "cell_type": "markdown",
      "source": [
        "### (2) 數字型變數探索(EDA for metric variables)"
      ],
      "metadata": {
        "id": "8-93EqkoGfrr"
      }
    },
    {
      "cell_type": "markdown",
      "source": [
        "#### i. 變數分布之盒狀圖與直方圖(Box plot and histogram of distribution of a variable)"
      ],
      "metadata": {
        "id": "cUajll3_Gqff"
      }
    },
    {
      "cell_type": "code",
      "source": [
        "def distribution_of_metric(data, metric_variables, save = False):\n",
        "  for m in metric_variables:\n",
        "    fig, (ax1, ax2) = plt.subplots(1, 2, figsize=(10, 5))\n",
        "\n",
        "    # Create the boxplot on the second subplot\n",
        "    ax1.boxplot(data[m])\n",
        "    ax1.set_title(\"Box plot of \" + m)\n",
        "    ax1.set_ylabel(\"Values\")\n",
        "\n",
        "    # Create the histogram on the first subplot\n",
        "    if max(data[m])-min(data[m]) > 1000:\n",
        "      ax2.hist(data[m], bins=int((max(data[m])-min(data[m])+1)/30))\n",
        "    else:\n",
        "      ax2.hist(data[m], bins=int((max(data[m])-min(data[m])+1)))\n",
        "    ax2.set_title(\"Histogram of \" + m)\n",
        "    ax2.set_xlabel(m)\n",
        "    ax2.set_ylabel(\"Frequency\")\n",
        "\n",
        "    if save == True:\n",
        "      plt.savefig(\"/content/drive/MyDrive/Box plot and histogram of \" + m[0:5], format = \"png\")\n",
        "    else:\n",
        "      plt.show()\n",
        "\n",
        "distribution_of_metric(data, metric_variables)"
      ],
      "metadata": {
        "id": "0aV0xjrmGppK"
      },
      "execution_count": null,
      "outputs": []
    },
    {
      "cell_type": "markdown",
      "source": [
        "#### ii. 變數間相關係數熱力圖(Heatmap of coefficients of correlation between metric variables)"
      ],
      "metadata": {
        "id": "nnc8sj_EypDA"
      }
    },
    {
      "cell_type": "code",
      "source": [
        "def heatmap_cc(data : pd.DataFrame, corr_type : str = \"all\", save : bool = False) -> None:\n",
        "    \"\"\"_summary_\n",
        "\n",
        "    Args:\n",
        "        data (pd.DataFrame): data_name\n",
        "        corr_type (str, optional): the cc method you want to use in these function. Defaults to \"all\".\n",
        "        save (bool, optional): save the image in your Google Drive. Defaults to False.\n",
        "        # TODO: Adjust the code to not only can be used in Google Colab.\n",
        "\n",
        "    Raises:\n",
        "        KeyError: If the method in arg is not any method that is implemented in this function, raise this error\n",
        "    \"\"\"\n",
        "\n",
        "    from matplotlib import pyplot as plt\n",
        "    import seaborn as sns\n",
        "\n",
        "    methods = [\"pearson\", \"kendall\", \"spearman\"]\n",
        "\n",
        "    if corr_type not in methods:\n",
        "        raise KeyError(\"This method has not be implemented in this function.\")\n",
        "\n",
        "    def corr_heatmap(corr_t):\n",
        "        corr_matrix = data.corr()\n",
        "\n",
        "        sns.heatmap(corr_matrix, annot=True, cmap='Blues', annot_kws={\"size\": 8})\n",
        "\n",
        "        plt.title(\"Coefficients of Correlation Between Numerical Columns\")\n",
        "\n",
        "        if save == True:\n",
        "            plt.savefig(\"/content/drive/MyDrive/Heatmap of coefficients of correlation\", format = \"png\")\n",
        "        else:\n",
        "            plt.show()\n",
        "\n",
        "    if corr_type == \"all\":\n",
        "        for i in methods:\n",
        "            corr_heatmap(i)\n",
        "    else:\n",
        "        corr_heatmap(corr_type)"
      ],
      "metadata": {
        "id": "x3eaAfse0qvP"
      },
      "execution_count": null,
      "outputs": []
    },
    {
      "cell_type": "markdown",
      "source": [
        "#### iii. 變數依時間排序之折線圖(Line Plot of metric variables according to time)"
      ],
      "metadata": {
        "id": "kvgBV60S3Jnb"
      }
    },
    {
      "cell_type": "code",
      "source": [
        "def time_histogram(data, metric_variables, save = False):\n",
        "  for m in metric_variables:\n",
        "    plt.figure()\n",
        "    plt.plot(data[m].index, data[m])\n",
        "    plt.title(\"Line Plot of \" + m + \"According to time\")\n",
        "\n",
        "    if save == True:\n",
        "      plt.savefig(\"/content/drive/MyDrive/Line plot of \" + m[0:5] + \" according to time\", format = \"png\")\n",
        "    else:\n",
        "      plt.show()\n",
        "\n",
        "time_histogram(data, metric_variables)"
      ],
      "metadata": {
        "id": "5i5FAl0k3tdV"
      },
      "execution_count": null,
      "outputs": []
    },
    {
      "cell_type": "markdown",
      "source": [
        "### (3) 非數字型變數探索(EDA for categorical variables)"
      ],
      "metadata": {
        "id": "1qA-HGIHry4r"
      }
    },
    {
      "cell_type": "markdown",
      "source": [
        "#### i. 變數內各種類出現次數條狀圖 (Bar Chart of Count of each group in a variable)"
      ],
      "metadata": {
        "id": "J5Wx7Teus0lw"
      }
    },
    {
      "cell_type": "code",
      "source": [
        "def count_of_each_group(data, categorical_variables, save = False):\n",
        "\n",
        "  for c in categorical_variables:\n",
        "    gr_data = data.groupby(c)\n",
        "    count_gr_data = gr_data[c].count()\n",
        "\n",
        "    plt.figure()\n",
        "\n",
        "    plt.bar(count_gr_data.index, count_gr_data.values)\n",
        "\n",
        "    plt.xlabel(c)\n",
        "    plt.ylabel(\"Frequency\")\n",
        "    name = 'Bar Chart of Count of ' + c\n",
        "    plt.title(name)\n",
        "\n",
        "    if save == True:\n",
        "      plt.savefig(\"/content/drive/MyDrive/Bar Chart of Count of\" + name, format = \"png\")\n",
        "    else:\n",
        "      plt.show()\n",
        "\n",
        "count_of_each_group(data, categorical_variables)"
      ],
      "metadata": {
        "id": "pISq0Tght8kA"
      },
      "execution_count": null,
      "outputs": []
    },
    {
      "cell_type": "markdown",
      "source": [
        "#### ii. 變數內各種類對於反應變數之種類出現次數對應條狀圖及其卡方檢定 (Bar Chart of Frequency of Response Variable Grouped by Categorical Variables and the Chi-square Tests)"
      ],
      "metadata": {
        "id": "EJAbQAMYgqun"
      }
    },
    {
      "cell_type": "code",
      "source": [
        "def freq_by_group(data, categorical_variables, y, save=False):\n",
        "    from scipy.stats import chi2_contingency\n",
        "\n",
        "    for c in categorical_variables:\n",
        "        # Compute the frequency of each binary outcome for each group\n",
        "        freq = data.groupby(c)[y].value_counts().unstack()\n",
        "\n",
        "        # Compute the proportion by dividing each value by the sum of values in the same group\n",
        "        proportions = freq.div(freq.sum(axis=1), axis=0)\n",
        "\n",
        "        plt.figure()\n",
        "\n",
        "        # Plot the results as a bar chart with proportions\n",
        "        ax = freq.plot(kind='bar', rot=0)\n",
        "        ax.set_xlabel(c)\n",
        "        ax.set_ylabel('Frequency')\n",
        "        ax.legend(title=y, labels=reversed(set(data[y])))\n",
        "        name = \"Bar Chart of Frequency of \" + y + \" grouped by \" + c\n",
        "        ax.set_title(name)\n",
        "        ax.tick_params(axis='x', labelrotation=90)\n",
        "\n",
        "        # Add text annotations for proportions on each bar\n",
        "        for i, column in enumerate(proportions.columns):\n",
        "            for j, value in enumerate(proportions[column]):\n",
        "                ax.text(i, freq.iloc[j, i] + 0.05, f'{value:.2f}', ha='center')\n",
        "\n",
        "        if save:\n",
        "            plt.savefig(\"/content/drive/MyDrive/Bar Chart of Frequency of\" + name)\n",
        "        else:\n",
        "            plt.show()\n",
        "\n",
        "        print(freq)\n",
        "        # Perform the chi-square test\n",
        "        chi2, p_value, dof, expected = chi2_contingency(freq)\n",
        "\n",
        "        # Print the results\n",
        "        print(f\"Chi-square statistic: {chi2:.2f}\")\n",
        "        print(f\"P-value: {p_value:.2f}\")\n",
        "        print(f\"Degrees of freedom: {dof}\")\n",
        "        print(\"Expected frequencies:\")\n",
        "        print(expected)\n",
        "\n",
        "freq_by_group(data, categorical_variables, y)"
      ],
      "metadata": {
        "id": "eWABWn_NgrHY"
      },
      "execution_count": null,
      "outputs": []
    },
    {
      "cell_type": "markdown",
      "source": [
        "#### iii. 變數內各種類於反應變數之平均與總計條狀圖 (Bar Chart of Mean and Sum of Each Group in Variables)"
      ],
      "metadata": {
        "id": "wJnTTsqN6Rg5"
      }
    },
    {
      "cell_type": "code",
      "source": [
        "def mean_and_total_of_each_group(data, categorical_variables, y, save = False):\n",
        "\n",
        "  for c in categorical_variables:\n",
        "    gr_data = data.groupby(c)\n",
        "\n",
        "    mean_gr_data = gr_data[y].mean()\n",
        "    plt.figure()\n",
        "    plt.bar(mean_gr_data.index, mean_gr_data.values)\n",
        "    plt.set_xlabel(c)\n",
        "    plt.set_ylabel(y)\n",
        "    plt.set_title('Bar Chart of Mean of ' + y + ' by ' + c)\n",
        "\n",
        "    if save == \"True\":\n",
        "      plt.savefig(\"/content/drive/MyDrive/\" + 'Bar Chart of Mean and Sum of ' + y + 'by ' + c, format = \"png\")\n",
        "    else:\n",
        "      plt.show()\n",
        "\n",
        "mean_and_total_of_each_group(data, categorical_variables, y)"
      ],
      "metadata": {
        "id": "PTv3CA4u6Rzx"
      },
      "execution_count": null,
      "outputs": []
    },
    {
      "cell_type": "markdown",
      "source": [
        "## 3. 模型 (Models)"
      ],
      "metadata": {
        "id": "J6nb6cAZo9R0"
      }
    },
    {
      "cell_type": "markdown",
      "source": [
        "### (0) 類別型變數轉換為虛擬變數 (Changing Categorical Variables into Dummy Variables)"
      ],
      "metadata": {
        "id": "nYeFPhl5HuKP"
      }
    },
    {
      "cell_type": "code",
      "source": [
        "def dummyChange(data, y, drop, clf, pos_name = \"\"):\n",
        "  data_processed = data.drop(drop, axis = 1)\n",
        "  data_processed = data_processed.drop(y, axis = 1)\n",
        "  if y in categorical_variables:\n",
        "    categorical_variables.remove(y)\n",
        "  for i in drop:\n",
        "    if i in categorical_variables:\n",
        "      categorical_variables.remove(i)\n",
        "  if clf == True:\n",
        "    res = []\n",
        "    for i in data[y]:\n",
        "      if i == pos_name:\n",
        "        res.append(1)\n",
        "      else:\n",
        "        res.append(0)\n",
        "    res_dict = {y : res}\n",
        "    dummy_x = pd.concat([pd.get_dummies(data_processed, columns = categorical_variables, drop_first = True), pd.DataFrame(res_dict)], axis = 1)\n",
        "  else:\n",
        "    dummy_x = pd.concat([pd.get_dummies(data_processed, columns = categorical_variables, drop_first = True), data[y]], axis = 1)\n",
        "  return dummy_x\n",
        "\n",
        "data_changed = dummyChange(data, y, drop = [], clf = False, pos_name = \"\")\n",
        "print(data_changed.head())"
      ],
      "metadata": {
        "id": "5gSiQ7A8IJEC"
      },
      "execution_count": null,
      "outputs": []
    },
    {
      "cell_type": "markdown",
      "source": [
        "### (1) 數值型預測 (Regression Model)"
      ],
      "metadata": {
        "id": "FVIcaOWfT911"
      }
    },
    {
      "cell_type": "markdown",
      "source": [
        "#### i. 數值型模型所需套件 (Packages for Regression Model)"
      ],
      "metadata": {
        "id": "pEA6sAY81pgZ"
      }
    },
    {
      "cell_type": "code",
      "source": [
        "import time\n",
        "from sklearn.linear_model import LinearRegression, LassoCV, Lasso, RidgeCV, Ridge, PoissonRegressor\n",
        "from statsmodels.tools.tools import pinv_extended\n",
        "from sklearn.preprocessing import StandardScaler\n",
        "from sklearn.pipeline import make_pipeline\n",
        "from sklearn.model_selection import cross_val_score, KFold, cross_validate\n",
        "from sklearn.svm import SVR\n",
        "from sklearn.tree import DecisionTreeRegressor, plot_tree\n",
        "from sklearn.ensemble import RandomForestRegressor\n",
        "import lightgbm as lgb\n",
        "from lightgbm import LGBMRegressor\n",
        "from sklearn.model_selection import train_test_split\n",
        "from sklearn.metrics import mean_squared_error, r2_score\n",
        "import tensorflow as tf\n",
        "from tensorflow import keras"
      ],
      "metadata": {
        "id": "7HylQ9yY2uz1"
      },
      "execution_count": null,
      "outputs": []
    },
    {
      "cell_type": "markdown",
      "source": [
        "#### ii. 迴歸 (Regression)"
      ],
      "metadata": {
        "id": "Hbv2fqw8S2jG"
      }
    },
    {
      "cell_type": "markdown",
      "source": [
        "##### (i) 線性迴歸 (Linear Regression)"
      ],
      "metadata": {
        "id": "ZpZyxRpgygnf"
      }
    },
    {
      "cell_type": "code",
      "source": [
        "def lm(data, y):\n",
        "\n",
        "  X_lin = sm.add_constant(data.drop(y, axis = 1))\n",
        "  model = sm.OLS(data[y], X_lin).fit()\n",
        "  print(\"Linear regression summary:\\n\", model.summary(), \"\\n\")\n",
        "\n",
        "  model = LinearRegression()\n",
        "  kfold = KFold(n_splits=10, shuffle=True, random_state=19972003)\n",
        "  scores = cross_validate(model, data.drop(y, axis=1), data[y], cv = kfold, scoring=(\"neg_root_mean_squared_error\", \"r2\"),\n",
        "                       return_train_score=True)\n",
        "  print(\"Linear Regression RMSE:\", -1 * np.mean(scores[\"test_neg_root_mean_squared_error\"]))\n",
        "  print(\"Linear Regrssion R Squared:\", np.mean(scores[\"test_r2\"]))\n",
        "\n",
        "lm(data_changed, y)"
      ],
      "metadata": {
        "id": "ItZSMlLXpAxW"
      },
      "execution_count": null,
      "outputs": []
    },
    {
      "cell_type": "markdown",
      "source": [
        "##### (ii) Lasso迴歸 (Lasso Regression)"
      ],
      "metadata": {
        "id": "kh_nOL6zS-Ut"
      }
    },
    {
      "cell_type": "code",
      "source": [
        "def LassoReg(data, y):\n",
        "  start_time = time.time()\n",
        "  model = make_pipeline(StandardScaler(), LassoCV(cv=10)).fit(data.drop(y, axis = 1), data[y])\n",
        "  fit_time = time.time() - start_time\n",
        "\n",
        "  lasso = model[-1]\n",
        "  ymin, ymax = lasso.mse_path_.mean(axis=-1).min() * 0.5, lasso.mse_path_.mean(axis=-1).max() * 1.5\n",
        "  plt.semilogx(lasso.alphas_, lasso.mse_path_, linestyle=\":\")\n",
        "  plt.plot(\n",
        "      lasso.alphas_,\n",
        "      lasso.mse_path_.mean(axis=-1),\n",
        "      color=\"black\",\n",
        "      label=\"Average across the folds\",\n",
        "      linewidth=2,\n",
        "  )\n",
        "  plt.axvline(lasso.alpha_, linestyle=\"--\", color=\"black\", label=\"alpha: CV estimate\")\n",
        "\n",
        "  plt.ylim(ymin, ymax)\n",
        "  plt.xlabel(r\"$\\alpha$\")\n",
        "  plt.ylabel(\"Mean square error\")\n",
        "  plt.legend()\n",
        "  _ = plt.title(\n",
        "      f\"Mean square error on each fold: coordinate descent (train time: {fit_time:.2f}s)\"\n",
        "  )\n",
        "\n",
        "  X_lin = sm.add_constant(data.drop(y, axis = 1))\n",
        "  model = sm.OLS(data[y], X_lin)\n",
        "  lasso_sm = model.fit_regularized(alpha = lasso.alpha_, L1_wt = 1)\n",
        "  pinv_wexog,_ = pinv_extended(X_lin)\n",
        "  normalized_cov_params = np.dot(pinv_wexog, np.transpose(pinv_wexog))\n",
        "  final = sm.regression.linear_model.OLSResults(model,\n",
        "                                              lasso_sm.params,\n",
        "                                              normalized_cov_params)\n",
        "  print(\"Lasso summary:\\n\", final.summary(), \"\\n\")\n",
        "\n",
        "  model = Lasso(lasso.alpha_)\n",
        "  kfold = KFold(n_splits=10, shuffle=True, random_state=19972003)\n",
        "  scores = cross_validate(model, data.drop(y, axis=1), data[y], cv = kfold, scoring=(\"neg_root_mean_squared_error\", \"r2\"),\n",
        "                       return_train_score=True)\n",
        "  print(\"Lasso RMSE:\", -1 * np.mean(scores[\"test_neg_root_mean_squared_error\"]))\n",
        "  print(\"Lasso R Squared:\", np.mean(scores[\"test_r2\"]))\n",
        "\n",
        "LassoReg(data_changed, y)"
      ],
      "metadata": {
        "id": "vxCRRRwdS9nO"
      },
      "execution_count": null,
      "outputs": []
    },
    {
      "cell_type": "markdown",
      "source": [
        "##### (iii) Ridge迴歸 (Ridge Regression)"
      ],
      "metadata": {
        "id": "k7gl7tWuTcRI"
      }
    },
    {
      "cell_type": "code",
      "source": [
        "def RidgeReg(data, y):\n",
        "  start_time = time.time()\n",
        "  model = make_pipeline(StandardScaler(), RidgeCV(cv=10)).fit(data.drop(y, axis = 1), data[y])\n",
        "  fit_time = time.time() - start_time\n",
        "\n",
        "  ridge = model[-1]\n",
        "  # ymin, ymax = ridge.mse_path_.mean(axis=-1).min() * 0.5, ridge.mse_path_.mean(axis=-1).max() * 1.5\n",
        "  # plt.semilogx(ridge.alphas_, ridge.mse_path_, linestyle=\":\")\n",
        "  # plt.plot(\n",
        "  #     ridge.alphas_,\n",
        "  #     ridge.mse_path_.mean(axis=-1),\n",
        "  #     color=\"black\",\n",
        "  #     label=\"Average across the folds\",\n",
        "  #     linewidth=2,\n",
        "  # )\n",
        "  # plt.axvline(ridge.alpha_, linestyle=\"--\", color=\"black\", label=\"alpha: CV estimate\")\n",
        "\n",
        "  # plt.ylim(ymin, ymax)\n",
        "  # plt.xlabel(r\"$\\alpha$\")\n",
        "  # plt.ylabel(\"Mean square error\")\n",
        "  # plt.legend()\n",
        "  # _ = plt.title(\n",
        "  #     f\"Mean square error on each fold: coordinate descent (train time: {fit_time:.2f}s)\"\n",
        "  # )\n",
        "  print(\"Ridge Alpha:\", ridge.alpha_)\n",
        "  X_lin = sm.add_constant(data.drop(y, axis = 1))\n",
        "  model = sm.OLS(data[y], X_lin)\n",
        "  ridge_sm = model.fit_regularized(alpha = ridge.alpha_, L1_wt = 0)\n",
        "\n",
        "  pinv_wexog,_ = pinv_extended(X_lin)\n",
        "  normalized_cov_params = np.dot(pinv_wexog, np.transpose(pinv_wexog))\n",
        "  final = sm.regression.linear_model.OLSResults(model,\n",
        "                                              ridge_sm.params,\n",
        "                                              normalized_cov_params)\n",
        "  print(\"Ridge summary:\\n\", final.summary(), \"\\n\")\n",
        "\n",
        "  model = Ridge(ridge.alpha_)\n",
        "  kfold = KFold(n_splits=10, shuffle=True, random_state=19972003)\n",
        "  scores = cross_validate(model, data.drop(y, axis=1), data[y], cv = kfold, scoring=(\"neg_root_mean_squared_error\", \"r2\"),\n",
        "                       return_train_score=True)\n",
        "  print(\"Ridge RMSE:\", -1 * np.mean(scores[\"test_neg_root_mean_squared_error\"]))\n",
        "  print(\"Ridge R Squared:\", np.mean(scores[\"test_r2\"]))\n",
        "\n",
        "RidgeReg(data_changed, y)"
      ],
      "metadata": {
        "id": "wPVyAohUTl0o"
      },
      "execution_count": null,
      "outputs": []
    },
    {
      "cell_type": "markdown",
      "source": [
        "##### (iv) 卜瓦松迴歸 (Poisson Regression / Generalized Linear Model with Poisson Distribution)"
      ],
      "metadata": {
        "id": "TnftqricUovf"
      }
    },
    {
      "cell_type": "code",
      "source": [
        "def glmPoi(data, y):\n",
        "  glm_possion_model = sm.GLM(data[y], data.drop(y, axis=1),\n",
        "                      family=sm.families.Poisson())\n",
        "  model = glm_possion_model.fit()\n",
        "  print(model.summary())\n",
        "  model = PoissonRegressor(alpha = 0, max_iter = 10000)\n",
        "  kfold = KFold(n_splits=10, shuffle=True, random_state=19972003)\n",
        "  scores = cross_validate(model, data.drop(y, axis=1), data[y], cv = kfold, scoring=(\"neg_root_mean_squared_error\", \"r2\"),\n",
        "                       return_train_score=True)\n",
        "  print(\"GLM with Poisson RMSE:\", -1 * np.mean(scores[\"test_neg_root_mean_squared_error\"]))\n",
        "  print(\"GLM with Poisson R Squared:\", np.mean(scores[\"test_r2\"]))\n",
        "\n",
        "glmPoi(data_changed, y)"
      ],
      "metadata": {
        "id": "M8196bjfdRKy"
      },
      "execution_count": null,
      "outputs": []
    },
    {
      "cell_type": "markdown",
      "source": [
        "#### iii. 時間序列模型 (Time Series)"
      ],
      "metadata": {
        "id": "X0lmi4liy1_B"
      }
    },
    {
      "cell_type": "code",
      "source": [
        "from statsmodels.tsa.stattools import adfuller\n",
        "result = adfuller(data[y].diff().dropna())\n",
        "print('ADF Statistic: %f' % result[0])\n",
        "print('p-value: %f' % result[1])\n",
        "print('Critical Values:')\n",
        "for key, value in result[4].items():\n",
        "  print('\\t%s: %.3f' % (key, value))\n",
        "data[y].diff().dropna().plot()"
      ],
      "metadata": {
        "id": "_vFlzlxEySKo"
      },
      "execution_count": null,
      "outputs": []
    },
    {
      "cell_type": "code",
      "source": [
        "from statsmodels.graphics.tsaplots import plot_pacf, plot_acf\n",
        "plot_pacf(data[y].diff().dropna());\n",
        "plot_acf(data[y].diff().dropna());"
      ],
      "metadata": {
        "id": "l4wyOLWayrnD"
      },
      "execution_count": null,
      "outputs": []
    },
    {
      "cell_type": "markdown",
      "source": [
        "##### (i) 整合移動平均自迴歸模型 (Autoregressive Integrated Moving Average, ARIMA)"
      ],
      "metadata": {
        "id": "eQPi9rHNVVMn"
      }
    },
    {
      "cell_type": "code",
      "source": [
        "def arima(data, y):\n",
        "  # Create the ARMAX model\n",
        "  model = sm.tsa.arima.ARIMA(data[y], order=(4, 1, 3))\n",
        "\n",
        "  # Fit the model to the training data\n",
        "  results = model.fit()\n",
        "\n",
        "  # make predictions on the training data\n",
        "  y_pred = results.predict(start = 0)\n",
        "\n",
        "  # calculate the MSE of the predictions\n",
        "  mse = mean_squared_error(data[y], y_pred)\n",
        "  r2 = r2_score(data[y], y_pred)\n",
        "\n",
        "  # Print the model summary\n",
        "  print(results.summary(), \"\\n\")\n",
        "  # print the MSE values\n",
        "  print(\"ARIMA RMSE:\", np.sqrt(mse))\n",
        "  print(\"ARIMA R-squared:\", r2)\n",
        "\n",
        "arima(data_changed, y)"
      ],
      "metadata": {
        "id": "vAAlPv8QVUqq"
      },
      "execution_count": null,
      "outputs": []
    },
    {
      "cell_type": "markdown",
      "source": [
        "##### (ii) 整合移動平均自迴歸模型結合外生變數 (Autoregressive Moving Average eXogenous, ARMAX)"
      ],
      "metadata": {
        "id": "Zf3Xp347U8Ap"
      }
    },
    {
      "cell_type": "code",
      "source": [
        "def arima(data, y):\n",
        "  # Create the ARMAX model\n",
        "  model = sm.tsa.arima.ARIMA(data[y], order=(4, 1, 3), exog = data.drop(y, axis = 1))\n",
        "\n",
        "  # Fit the model to the training data\n",
        "  results = model.fit()\n",
        "\n",
        "  # make predictions on the training data\n",
        "  y_pred = results.predict(start = 0, exog = data.drop(y, axis = 1))\n",
        "\n",
        "  # calculate the MSE of the predictions\n",
        "  mse = mean_squared_error(data[y], y_pred)\n",
        "  r2 = r2_score(data[y], y_pred)\n",
        "\n",
        "  # Print the model summary\n",
        "  print(results.summary())\n",
        "  # print the MSE values\n",
        "  print(\"ARIMA RMSE:\", np.sqrt(mse))\n",
        "  print(\"ARIMA R-squared:\", r2)\n",
        "\n",
        "arima(data_changed, y)"
      ],
      "metadata": {
        "id": "XxCAOCskU7lw"
      },
      "execution_count": null,
      "outputs": []
    },
    {
      "cell_type": "markdown",
      "source": [
        "##### (iii) 結合自迴歸之迴歸模型 (Regression Model with Autoregression)"
      ],
      "metadata": {
        "id": "2dqHEXyDKIrt"
      }
    },
    {
      "cell_type": "code",
      "source": [
        "def RegwithLag(data, y, lrtype, step):\n",
        "  for i in range(1, step+1):\n",
        "    data[y + str(i)] = data[y].shift(i)\n",
        "  data = data[i:]\n",
        "  if lrtype == \"lr\":\n",
        "    lm(data, y)\n",
        "  elif lrtype == \"lasso\":\n",
        "    LassoReg(data, y)\n",
        "  elif lrtype == \"ridge\":\n",
        "    RidgeReg(data, y)\n",
        "  elif lrtype == \"poi\":\n",
        "    glmPoi(data, y)\n",
        "\n",
        "RegwithLag(data_changed, y, lrtype = \"ridge\", step = 3)"
      ],
      "metadata": {
        "id": "2yWecxesKIC-"
      },
      "execution_count": null,
      "outputs": []
    },
    {
      "cell_type": "markdown",
      "source": [
        "#### iv. 迴歸樹 (Regression Tree)"
      ],
      "metadata": {
        "id": "PZbc8XQgMBf1"
      }
    },
    {
      "cell_type": "code",
      "source": [
        "def RegressionTree(data, y):\n",
        "  model = DecisionTreeRegressor(max_depth = 3, random_state=19972003)\n",
        "  kfold = KFold(n_splits=10, shuffle=True, random_state=19972003)\n",
        "  scores = cross_validate(model, data.drop(y, axis=1), data[y], cv = kfold, scoring=(\"neg_root_mean_squared_error\", \"r2\"),\n",
        "                       return_train_score=True)\n",
        "  result = model.fit(data.drop(y, axis=1), data[y])\n",
        "  plot_tree(result)\n",
        "\n",
        "  print(\"Regression Tree RMSE:\", -1 * np.mean(scores[\"test_neg_root_mean_squared_error\"]))\n",
        "  print(\"Regression Tree R Squared:\", np.mean(scores[\"test_r2\"]))\n",
        "\n",
        "RegressionTree(data_changed, y)"
      ],
      "metadata": {
        "id": "u4dybcHmLV4A"
      },
      "execution_count": null,
      "outputs": []
    },
    {
      "cell_type": "markdown",
      "source": [
        "#### v. 迴歸支持向量機 (Support Vector Machine for Regression, SVR)"
      ],
      "metadata": {
        "id": "_fUAAFLP2Jln"
      }
    },
    {
      "cell_type": "code",
      "source": [
        "def SvmReg(data, y):\n",
        "  model = SVR(kernal = 'linear', C=1.0, epsilon=0.1)\n",
        "  kfold = KFold(n_splits=10, shuffle=True, random_state=19972003)\n",
        "  scores = cross_validate(model, data.drop(y, axis=1), data[y], cv = kfold, scoring=(\"neg_root_mean_squared_error\", \"r2\"),\n",
        "                       return_train_score=True)\n",
        "  print(\"SVR RMSE:\", -1 * np.mean(scores[\"test_neg_root_mean_squared_error\"]))\n",
        "  print(\"SVR R Squared:\", np.mean(scores[\"test_r2\"]))\n",
        "\n",
        "SvmReg(data_changed, y)"
      ],
      "metadata": {
        "id": "WuDvc_WlKb1C"
      },
      "execution_count": null,
      "outputs": []
    },
    {
      "cell_type": "markdown",
      "source": [
        "#### vi. 整合型模型 (Ensemble Models)"
      ],
      "metadata": {
        "id": "T6AFtOuzPpDJ"
      }
    },
    {
      "cell_type": "markdown",
      "source": [
        "##### (i) 迴歸用隨機森林 (Random Forest for Regression)"
      ],
      "metadata": {
        "id": "A2xQiIfwQIsT"
      }
    },
    {
      "cell_type": "code",
      "source": [
        "def RFR(data, y):\n",
        "  model = RandomForestRegressor(n_estimators=100, max_depth=10, random_state=42)\n",
        "  kfold = KFold(n_splits=10, shuffle=True, random_state=19972003)\n",
        "  scores = cross_validate(model, data.drop(y, axis=1), data[y], cv = kfold, scoring=(\"neg_root_mean_squared_error\", \"r2\"),\n",
        "                       return_train_score=True)\n",
        "  print(\"Random Forest RMSE:\", -1 * np.mean(scores[\"test_neg_root_mean_squared_error\"]))\n",
        "  print(\"Random Forest R Squared:\", np.mean(scores[\"test_r2\"]))\n",
        "\n",
        "RFR(data_changed, y)"
      ],
      "metadata": {
        "id": "48UqR-pKQf6U"
      },
      "execution_count": null,
      "outputs": []
    },
    {
      "cell_type": "markdown",
      "source": [
        "##### (ii) 迴歸用輕量化梯度提昇機 (Light Gradient Boosting Machine for Regression, LightGBM for Regression)"
      ],
      "metadata": {
        "id": "wdBaYGjbNIIY"
      }
    },
    {
      "cell_type": "code",
      "source": [
        "def LGBMR(data, y):\n",
        "  x = data.drop(y, axis = 1)\n",
        "  params = {\n",
        "    'boosting_type': 'gbdt',\n",
        "    'objective': 'regression',\n",
        "    'metric': 'mse',\n",
        "    'num_leaves': 31,\n",
        "    'learning_rate': 0.05,\n",
        "    'feature_fraction': 0.9\n",
        "  }\n",
        "\n",
        "  train_data = lgb.Dataset(x, label=data[y])\n",
        "\n",
        "  model = lgb.cv(params, train_data, nfold = 10, seed = 19972003, metrics = \"rmse\")\n",
        "  # kfold = KFold(n_splits=10, shuffle=True, random_state=19972003)\n",
        "  # scores = cross_validate(model, data.drop(y, axis=1), data[y], cv = kfold, scoring=(\"neg_root_mean_squared_error\", \"r2\"),\n",
        "  #                      return_train_score=True)\n",
        "  print(\"LightGBM RMSE:\", np.mean(model[\"rmse-mean\"]))\n",
        "  # print(\"LightGBM R Squared:\", np.mean(model[\"r2\"]))\n",
        "\n",
        "LGBMR(data_changed, y)"
      ],
      "metadata": {
        "id": "yScC_UfQMzsB"
      },
      "execution_count": null,
      "outputs": []
    },
    {
      "cell_type": "markdown",
      "source": [
        "#### vii. 迴歸用深度神經網路 (Deep Neural Network for Regression, DNN for Regression)"
      ],
      "metadata": {
        "id": "bYhN3cyuuO2u"
      }
    },
    {
      "cell_type": "code",
      "source": [
        "def DNNR(data, y):\n",
        "  x = data.drop(y, axis = 1)\n",
        "\n",
        "  X_train, X_test, y_train, y_test = train_test_split(x, data[y], test_size=0.1, random_state=19972003)\n",
        "  reg_model = keras.Sequential([\n",
        "    keras.layers.Dense(64, activation='relu', input_shape=(X_train.shape[1],)),\n",
        "    keras.layers.Dense(32, activation='relu'),\n",
        "    keras.layers.Dense(16, activation='relu'),\n",
        "    keras.layers.Dense(1)\n",
        "  ])\n",
        "\n",
        "  reg_model.compile(loss='mse', optimizer='adam')\n",
        "  reg_model.fit(X_train, y_train, epochs=100, batch_size=100, validation_data=(X_test, y_test))\n",
        "\n",
        "  y_pred = reg_model.predict(X_test)\n",
        "\n",
        "  mse = mean_squared_error(y_test, y_pred)\n",
        "  r2 = r2_score(y_test, y_pred)\n",
        "\n",
        "  # print the MSE values\n",
        "  print(\"DNN RMSE:\", np.sqrt(mse))\n",
        "  print(\"DNN R-squared:\", r2)\n",
        "\n",
        "DNNR(data_changed, y)"
      ],
      "metadata": {
        "id": "o7upJ2PIvBIw"
      },
      "execution_count": null,
      "outputs": []
    },
    {
      "cell_type": "markdown",
      "source": [
        "### (2) 分類型預測 (Classification Model)"
      ],
      "metadata": {
        "id": "KFqZJ4ITTvPG"
      }
    },
    {
      "cell_type": "markdown",
      "source": [
        "#### i.分類型模型所需套件 (Packages for Classification Model)"
      ],
      "metadata": {
        "id": "gRBEV3MRpPYZ"
      }
    },
    {
      "cell_type": "code",
      "source": [
        "from sklearn.linear_model import LogisticRegression\n",
        "from statsmodels.tools.tools import pinv_extended\n",
        "from sklearn.preprocessing import StandardScaler\n",
        "from sklearn.pipeline import make_pipeline\n",
        "from sklearn.model_selection import cross_val_score, KFold, cross_validate\n",
        "from sklearn.tree import DecisionTreeClassifier, plot_tree\n",
        "from sklearn.svm import SVC\n",
        "from sklearn.ensemble import RandomForestClassifier\n",
        "import lightgbm as lgb\n",
        "from sklearn.metrics import accuracy_score, precision_score, recall_score, f1_score, roc_curve, roc_auc_score\n",
        "from sklearn.model_selection import train_test_split\n",
        "import tensorflow as tf\n",
        "from tensorflow import keras"
      ],
      "metadata": {
        "id": "xLflEQajpfod"
      },
      "execution_count": null,
      "outputs": []
    },
    {
      "cell_type": "markdown",
      "source": [
        "#### ii. 羅吉斯迴歸 (Logistic Regression)"
      ],
      "metadata": {
        "id": "zos-zl1MUPm0"
      }
    },
    {
      "cell_type": "code",
      "source": [
        "def logistic(data, y):\n",
        "  # Create a logistic regression model and fit it to the training data\n",
        "  model = sm.Logit(data[y], data.drop(y, axis=1)).fit()\n",
        "  print(model.summary())\n",
        "  model = LogisticRegression()\n",
        "  kfold = KFold(n_splits=10, shuffle=True, random_state=19972003)\n",
        "  scores = cross_validate(model, data.drop(y, axis=1), data[y], cv = kfold, scoring=(\"accuracy\", \"precision\", \"recall\", 'f1', 'roc_auc'),\n",
        "                       return_train_score=True)\n",
        "\n",
        "  # Evaluate the performance of the model\n",
        "  print(\"Logistic Accuracy:\", np.mean(scores[\"test_accuracy\"]))\n",
        "  print(\"Logistic Precision:\", np.mean(scores[\"test_precision\"]))\n",
        "  print(\"Logistic Recall:\", np.mean(scores[\"test_recall\"]))\n",
        "  print(\"Logistic F1 Score:\", np.mean(scores[\"test_f1\"]))\n",
        "  print(\"Logistic AUC Score:\",np.mean(scores[\"test_roc_auc\"]))\n",
        "\n",
        "logistic(data_changed, y)"
      ],
      "metadata": {
        "id": "tE0oKbvUUNQM"
      },
      "execution_count": null,
      "outputs": []
    },
    {
      "cell_type": "markdown",
      "source": [
        "#### iii. 決策樹 (Decision Tree)"
      ],
      "metadata": {
        "id": "cIyaUX55V8Ww"
      }
    },
    {
      "cell_type": "code",
      "source": [
        "def DT(data, y):\n",
        "  model = DecisionTreeClassifier(max_depth = 3)\n",
        "  kfold = KFold(n_splits=10, shuffle=True, random_state=19972003)\n",
        "  scores = cross_validate(model, data.drop(y, axis=1), data[y], cv = kfold, scoring=(\"accuracy\", \"precision\", \"recall\", 'f1', 'roc_auc'),\n",
        "                       return_train_score=True)\n",
        "  result = model.fit(data.drop(y, axis=1), data[y])\n",
        "  plot_tree(result)\n",
        "\n",
        "  # Evaluate the performance of the model\n",
        "  print(\"Decision Tree Accuracy:\", np.mean(scores[\"test_accuracy\"]))\n",
        "  print(\"Decision Tree Precision:\", np.mean(scores[\"test_precision\"]))\n",
        "  print(\"Decision Tree Recall:\", np.mean(scores[\"test_recall\"]))\n",
        "  print(\"Decision Tree F1 Score:\", np.mean(scores[\"test_f1\"]))\n",
        "  print(\"Decision Tree AUC Score:\",np.mean(scores[\"test_roc_auc\"]))\n",
        "\n",
        "DT(data_changed, y)"
      ],
      "metadata": {
        "id": "BF4WB22HV76G"
      },
      "execution_count": null,
      "outputs": []
    },
    {
      "cell_type": "markdown",
      "source": [
        "#### iv. 分類用支持向量機 (Support Vector Machine for Classification, SVC)"
      ],
      "metadata": {
        "id": "OuJ-fBNJnzmw"
      }
    },
    {
      "cell_type": "code",
      "source": [
        "def SVRCLA(data, y):\n",
        "  model = SVC(kernel='linear')\n",
        "  kfold = KFold(n_splits=10, shuffle=True, random_state=19972003)\n",
        "  scores = cross_validate(model, data.drop(y, axis=1), data[y], cv = kfold, scoring=(\"accuracy\", \"precision\", \"recall\", 'f1', 'roc_auc'),\n",
        "                       return_train_score=True)\n",
        "\n",
        "  # Evaluate the performance of the model\n",
        "  print(\"SVC Accuracy:\", np.mean(scores[\"test_accuracy\"]))\n",
        "  print(\"SVC Precision:\", np.mean(scores[\"test_precision\"]))\n",
        "  print(\"SVC Recall:\", np.mean(scores[\"test_recall\"]))\n",
        "  print(\"SVC F1 Score:\", np.mean(scores[\"test_f1\"]))\n",
        "  print(\"SVC AUC Score:\",np.mean(scores[\"test_roc_auc\"]))\n",
        "\n",
        "SVRCLA(data_changed, y)"
      ],
      "metadata": {
        "id": "82k0G9b5ny5z"
      },
      "execution_count": null,
      "outputs": []
    },
    {
      "cell_type": "markdown",
      "source": [
        "#### v. 整合型模型 (Ensemble Models)"
      ],
      "metadata": {
        "id": "TE_hAx7pqcwf"
      }
    },
    {
      "cell_type": "markdown",
      "source": [
        "##### (i) 分類用隨機森林 (Random Forest for Classification)"
      ],
      "metadata": {
        "id": "pyhW5eTOqkLf"
      }
    },
    {
      "cell_type": "code",
      "source": [
        "def RFC(data, y):\n",
        "  model = RandomForestClassifier()\n",
        "  kfold = KFold(n_splits=10, shuffle=True, random_state=19972003)\n",
        "  scores = cross_validate(model, data.drop(y, axis=1), data[y], cv = kfold, scoring=(\"accuracy\", \"precision\", \"recall\", 'f1', 'roc_auc'),\n",
        "                       return_train_score=True)\n",
        "\n",
        "  # Evaluate the performance of the model\n",
        "  print(\"Random Forest Accuracy:\", np.mean(scores[\"test_accuracy\"]))\n",
        "  print(\"Random Forest Precision:\", np.mean(scores[\"test_precision\"]))\n",
        "  print(\"Random Forest Recall:\", np.mean(scores[\"test_recall\"]))\n",
        "  print(\"Random Forest F1 Score:\", np.mean(scores[\"test_f1\"]))\n",
        "  print(\"Random Forest AUC Score:\",np.mean(scores[\"test_roc_auc\"]))\n",
        "\n",
        "RFC(data_changed, y)"
      ],
      "metadata": {
        "id": "UpFnqH-vrJdJ"
      },
      "execution_count": null,
      "outputs": []
    },
    {
      "cell_type": "markdown",
      "source": [
        "##### (ii) 分類用輕量化梯度提昇機 (Light Gradient Boosting Machine for Classification, LightGBM for Classification)"
      ],
      "metadata": {
        "id": "qzhkQlZAq0-p"
      }
    },
    {
      "cell_type": "code",
      "source": [
        "def LGBC(data, y):\n",
        "  model = lgb.LGBMClassifier()\n",
        "  kfold = KFold(n_splits=10, shuffle=True, random_state=19972003)\n",
        "  scores = cross_validate(model, data.drop(y, axis=1), data[y], cv = kfold, scoring=(\"accuracy\", \"precision\", \"recall\", 'f1', 'roc_auc'),\n",
        "                       return_train_score=True)\n",
        "\n",
        "  # Evaluate the performance of the model\n",
        "  print(\"LightGBM Accuracy:\", np.mean(scores[\"test_accuracy\"]))\n",
        "  print(\"LightGBM Precision:\", np.mean(scores[\"test_precision\"]))\n",
        "  print(\"LightGBM Recall:\", np.mean(scores[\"test_recall\"]))\n",
        "  print(\"LightGBM F1 Score:\", np.mean(scores[\"test_f1\"]))\n",
        "  print(\"LightGBM AUC Score:\", np.mean(scores[\"test_roc_auc\"]))\n",
        "\n",
        "LGBC(data_changed, y)"
      ],
      "metadata": {
        "id": "LF5kv54ysAjF"
      },
      "execution_count": null,
      "outputs": []
    },
    {
      "cell_type": "markdown",
      "source": [
        "#### vi. 分類用深度神經網路 (Deep Neural Network for Classfication, DNN for Classfication)"
      ],
      "metadata": {
        "id": "iDH9pTR84_7A"
      }
    },
    {
      "cell_type": "code",
      "source": [
        "def DNNC(data, y):\n",
        "  x = np.asarray(data.drop(y, axis = 1)).astype(np.float32)\n",
        "  y = np.asarray(data[y]).astype(np.float32)\n",
        "\n",
        "  X_train, X_test, y_train, y_test = train_test_split(x, y, test_size=0.1, random_state=19972003)\n",
        "  clf_model = keras.Sequential([\n",
        "    keras.layers.Dense(64, activation='relu', input_shape=(X_train.shape[1],)),\n",
        "    keras.layers.Dense(32, activation='relu'),\n",
        "    keras.layers.Dense(16, activation='relu'),\n",
        "    keras.layers.Dense(1, activation='sigmoid')\n",
        "  ])\n",
        "\n",
        "  clf_model.compile(loss='binary_crossentropy', optimizer='adam', metrics=['AUC'])\n",
        "  clf_model.fit(X_train, y_train, epochs=50, batch_size=100, validation_data=(X_test, y_test))\n",
        "\n",
        "  y_pred_o = clf_model.predict(X_test)\n",
        "  y_pred = []\n",
        "  for i in y_pred_o:\n",
        "    if i < 0.5:\n",
        "      y_pred.append(0)\n",
        "    else:\n",
        "      y_pred.append(1)\n",
        "  print(\"DNN Accuracy:\", accuracy_score(y_test, y_pred))\n",
        "  print(\"DNN Precision:\", precision_score(y_test, y_pred, pos_label=1))\n",
        "  print(\"DNN Recall:\", recall_score(y_test, y_pred, pos_label=1))\n",
        "  print(\"DNN F1 Score:\", f1_score(y_test, y_pred, pos_label=1))\n",
        "\n",
        "DNNC(data_changed, y)"
      ],
      "metadata": {
        "id": "5aqWK6vu5Mwg"
      },
      "execution_count": null,
      "outputs": []
    }
  ]
}